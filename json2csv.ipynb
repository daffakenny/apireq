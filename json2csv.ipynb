{
 "cells": [
  {
   "cell_type": "code",
   "execution_count": 1,
   "id": "2c2a9d0a",
   "metadata": {},
   "outputs": [],
   "source": [
    "import pandas as pd\n",
    "import json"
   ]
  },
  {
   "cell_type": "code",
   "execution_count": 23,
   "id": "d9ffdb2d",
   "metadata": {},
   "outputs": [],
   "source": [
    "def json2csv(filename) :\n",
    "    with open(filename, 'r') as json_data:\n",
    "        data = json.load(json_data)\n",
    "        df = pd.json_normalize(data['response']) # Change response to the last Array of the desired data\n",
    "        df.to_csv('normalized.csv')"
   ]
  },
  {
   "cell_type": "code",
   "execution_count": 25,
   "id": "63b5874e",
   "metadata": {},
   "outputs": [],
   "source": [
    "json2csv('nbateams.json')"
   ]
  }
 ],
 "metadata": {
  "kernelspec": {
   "display_name": "Python 3 (ipykernel)",
   "language": "python",
   "name": "python3"
  },
  "language_info": {
   "codemirror_mode": {
    "name": "ipython",
    "version": 3
   },
   "file_extension": ".py",
   "mimetype": "text/x-python",
   "name": "python",
   "nbconvert_exporter": "python",
   "pygments_lexer": "ipython3",
   "version": "3.10.7"
  }
 },
 "nbformat": 4,
 "nbformat_minor": 5
}
